{
 "cells": [
  {
   "cell_type": "code",
   "execution_count": null,
   "id": "228e412e",
   "metadata": {},
   "outputs": [],
   "source": [
    "import glob\n",
    "import os\n",
    "import skimage\n",
    "import numpy as np\n",
    "import matplotlib.pyplot as plt\n",
    "import gc"
   ]
  },
  {
   "cell_type": "code",
   "execution_count": null,
   "id": "d174fdac",
   "metadata": {},
   "outputs": [],
   "source": [
    "# Convert 3D images to stacks for deep learning processing \n",
    "#Extract Just roots from PVC masks\n",
    "###############################################################################\n",
    "data_path='G:\\\\SOIL_UCT\\\\RAW_ANSTO\\\\'\n",
    "uct_file_names = [os.path.basename(x) for x in glob.glob(data_path+\"*.tif\")]\n",
    "##################################################################################\n",
    "output_base='G:\\\\SOIL_UCT\\\\RAW_ANSTO_DATA_AS_XY_STACKS\\\\'\n",
    "for i in uct_file_names:\n",
    "    print (i)\n",
    "    output_directory = output_base+i+\"\\\\\"\n",
    "    if os.path.isdir(output_directory):\n",
    "        print(\"images are alread as slices\")\n",
    "        os.remove(data_path+str(i)) \n",
    "    else:\n",
    "        print(\"Converting 3D stack to slices\")\n",
    "        os.mkdir(output_directory)\n",
    "        ###################################\n",
    "        img=skimage.io.imread(data_path+i)\n",
    "        ###################################\n",
    "        for slice_n in range(img.shape[0]):#\n",
    "            img_temp=img[slice_n]\n",
    "            name_fix=i.replace(\".tif\",\"\")\n",
    "            skimage.io.imsave(output_directory+name_fix+\"_slice_\"+str(slice_n)+\".tif\", img_temp, check_contrast=False)\n",
    "        os.remove(data_path+str(i)) #delete the 3D stack, ONLY IF YOU COPY AND PASTED THE ORIGINAL SHOULD YOU DO THIS\n",
    "        del img\n",
    "        del img_temp\n",
    "        gc.collect()"
   ]
  },
  {
   "cell_type": "code",
   "execution_count": null,
   "id": "24478ba8",
   "metadata": {},
   "outputs": [],
   "source": []
  }
 ],
 "metadata": {
  "kernelspec": {
   "display_name": "Python 3 (ipykernel)",
   "language": "python",
   "name": "python3"
  },
  "language_info": {
   "codemirror_mode": {
    "name": "ipython",
    "version": 3
   },
   "file_extension": ".py",
   "mimetype": "text/x-python",
   "name": "python",
   "nbconvert_exporter": "python",
   "pygments_lexer": "ipython3",
   "version": "3.9.12"
  }
 },
 "nbformat": 4,
 "nbformat_minor": 5
}
