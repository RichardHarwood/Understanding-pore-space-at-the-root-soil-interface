{
 "cells": [
  {
   "cell_type": "code",
   "execution_count": null,
   "id": "ee28db2b",
   "metadata": {},
   "outputs": [],
   "source": [
    "from glob import glob\n",
    "import os\n",
    "import skimage\n",
    "import numpy as np\n",
    "import matplotlib.pyplot as plt\n",
    "import gc\n",
    "from skimage import io,exposure, feature, filters, io\n",
    "import matplotlib.pyplot as plt"
   ]
  },
  {
   "cell_type": "code",
   "execution_count": null,
   "id": "ee735ffb",
   "metadata": {
    "scrolled": true
   },
   "outputs": [],
   "source": [
    "#Reslice\n",
    "data_path='G:\\\\SOIL_UCT\\\\RAW_ANSTO_DATA_AS_XY_STACKS\\\\recon_W16_D_S1_R2.tif\\\\'\n",
    "output_directory = 'G:\\\\SOIL_UCT\\\\RESLICED\\\\'\n",
    "ext=\"*.tif\"\n",
    "\n",
    "img = []\n",
    "for filename in sorted(glob(data_path+ext), key=os.path.getmtime):\n",
    "    slice_n=skimage.io.imread(filename)\n",
    "    img.append(slice_n)\n",
    "img = np.array(img)\n",
    "\n",
    "Z=img.shape\n",
    "print(Z[1])\n",
    "\n",
    "#save \n",
    "for i in range(Z[1]):\n",
    "         io.imsave(output_directory+'/'+'resliced%s.png'%i, (img[:,i,:]))"
   ]
  },
  {
   "cell_type": "code",
   "execution_count": null,
   "id": "2cb74573",
   "metadata": {},
   "outputs": [],
   "source": []
  }
 ],
 "metadata": {
  "kernelspec": {
   "display_name": "Python 3 (ipykernel)",
   "language": "python",
   "name": "python3"
  },
  "language_info": {
   "codemirror_mode": {
    "name": "ipython",
    "version": 3
   },
   "file_extension": ".py",
   "mimetype": "text/x-python",
   "name": "python",
   "nbconvert_exporter": "python",
   "pygments_lexer": "ipython3",
   "version": "3.9.12"
  }
 },
 "nbformat": 4,
 "nbformat_minor": 5
}
